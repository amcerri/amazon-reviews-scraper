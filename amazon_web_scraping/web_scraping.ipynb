{
 "cells": [
  {
   "cell_type": "code",
   "execution_count": 1,
   "metadata": {},
   "outputs": [],
   "source": [
    "# Install and import the required libraries\n",
    "\n",
    "import os\n",
    "import pandas as pd"
   ]
  },
  {
   "cell_type": "code",
   "execution_count": 2,
   "metadata": {},
   "outputs": [],
   "source": [
    "# Inputs\n",
    "\n",
    "# For a web crawler covering several pages, enter the URL of the first page here\n",
    "#url = [\"https://www.amazon.com/s?i=computers-intl-ship&bbn=16225007011&rh=n%3A16225007011%2Cn%3A13896617011%2Cn%3A565108&dc&ds=v1%3AYdjnFKG4pRwiBuyZ3ydZCw9M6UCM77hmSRcRKkg1GgY&qid=1667221636&rnid=13896617011&ref=sr_nr_n_2\"]\n",
    "\n",
    "# For targeted product URLs, use the following format (URLs for specific products):\n",
    "url = [\n",
    "    \"https://www.amazon.com/Apple-MacBook-14-inch-8%E2%80%91core-14%E2%80%91core/product-reviews/B09JQSLL92/ref=cm_cr_dp_d_show_all_btm?ie=UTF8&reviewerType=all_reviews\",\n",
    "    \"https://www.amazon.com/Lenovo-2-1-Chromebook-Computer/product-reviews/B09RNCN3YV/ref=cm_cr_dp_d_show_all_btm?ie=UTF8&reviewerType=all_reviews\",\n",
    "    \"https://www.amazon.com/Acer-A515-45-R74Z-Hexa-Core-Processor-Graphics/product-reviews/B09J1MXS2Z/ref=cm_cr_dp_d_show_all_btm?ie=UTF8&reviewerType=all_reviews\",\n",
    "    \"https://www.amazon.com/ASUS-IPS-Type-i5-10300H-Processor-FX506LH-AS51/product-reviews/B09SVQ25XH/ref=cm_cr_dp_d_show_all_btm?ie=UTF8&reviewerType=all_reviews\",\n",
    "    \"https://www.amazon.com/HP-Keyboard-Enlarged-Touchpad-15-fb0028nr/product-reviews/B09X2B5TYJ/ref=cm_cr_dp_d_show_all_btm?ie=UTF8&reviewerType=all_reviews\",\n",
    "    \"https://www.amazon.com/Lenovo-Computer-Processor-i7-1065G7-Keyboard/product-reviews/B09CLZTH6M/ref=cm_cr_dp_d_show_all_btm?ie=UTF8&reviewerType=all_reviews\",\n",
    "    \"https://www.amazon.com/Acer-AN517-54-79L1-i7-11800H-GeForce-Display/product-reviews/B09HJKGK5V/ref=cm_cr_dp_d_show_all_btm?ie=UTF8&reviewerType=all_reviews\",\n",
    "    \"https://www.amazon.com/Acer-SFX14-41G-R1S6-Creator-LPDDR4X-Backlit/product-reviews/B093TK1PXF/ref=cm_cr_dp_d_show_all_btm?ie=UTF8&reviewerType=all_reviews\",\n",
    "    \"https://www.amazon.com/ASUS-Vivobook-Processor-Microsoft-L510MA-AS02/product-reviews/B09SVR5VD4/ref=cm_cr_dp_d_show_all_btm?ie=UTF8&reviewerType=all_reviews\",\n",
    "    \"https://www.amazon.com/Dell-Inspiron-3583-Laptop-Celeron/product-reviews/B08HSNRFTX/ref=cm_cr_dp_d_show_all_btm?ie=UTF8&reviewerType=all_reviews\",\n",
    "    \"https://www.amazon.com/ASUS-Display-i7-12650H-Thunderbolt-FX517ZM-AS73/product-reviews/B09RMH9B6F/ref=cm_cr_dp_d_show_all_btm?ie=UTF8&reviewerType=all_reviews\",\n",
    "    \"https://www.amazon.com/Acer-Predator-PH315-54-760S-i7-11800H-Keyboard/product-reviews/B092YHJLS6/ref=cm_cr_dp_d_show_all_btm?ie=UTF8&reviewerType=all_reviews\",\n",
    "    \"https://www.amazon.com/Microsoft-Surface-Laptop-Studio-Touchscreen/product-reviews/B09F8XX4NS/ref=cm_cr_dp_d_show_all_btm?ie=UTF8&reviewerType=all_reviews\",\n",
    "    \"https://www.amazon.com/MSI-GF63-Thin-10SCXR-222-i5-10300H/product-reviews/B08YRZ2LLJ/ref=cm_cr_dp_d_show_all_btm?ie=UTF8&reviewerType=all_reviews\",\n",
    "    \"https://www.amazon.com/Razer-Blade-14-Gaming-Laptop/product-reviews/B094681RZP/ref=cm_cr_dp_d_show_all_btm?ie=UTF8&reviewerType=all_reviews\",\n",
    "    \"https://www.amazon.com/LG-Lightweight-Processor-Thunderbolt-Windows11/product-reviews/B09XH2W8WH/ref=cm_cr_dp_d_show_all_btm?ie=UTF8&reviewerType=all_reviews\",\n",
    "    \"https://www.amazon.com/Zephyrus-Special-Pantone-Validated-GA401QEC-K2064T/product-reviews/B09VS7971V/ref=cm_cr_dp_d_show_all_btm?ie=UTF8&reviewerType=all_reviews\",\n",
    "    \"https://www.amazon.com/Lenovo-Display-Processor-Storage-82JW00BDUS/product-reviews/B09BDGD2TZ/ref=cm_cr_dp_d_show_all_btm?ie=UTF8&reviewerType=all_reviews\",\n",
    "    \"https://www.amazon.com/Dell-Inspiron-Plus-7420-Laptop/product-reviews/B09YBS4TVK/ref=cm_cr_dp_d_show_all_btm?ie=UTF8&reviewerType=all_reviews\",\n",
    "    \"https://www.amazon.com/HP-Light-Weight-i3-1125G4-i7-8565U-Accessories/product-reviews/B09SFZMCGL/ref=cm_cr_dp_d_show_all_btm?ie=UTF8&reviewerType=all_reviews\",\n",
    "    \"https://www.amazon.com/ASUS-F512JA-AS34-VivoBook-i3-1005G1-Fingerprint/product-reviews/B0869L1326/ref=cm_cr_dp_d_show_all_btm?ie=UTF8&reviewerType=all_reviews\",\n",
    "    \"https://www.amazon.com/MSI-Stealth-15M-Gaming-Laptop/product-reviews/B091GGZT1S/ref=cm_cr_dp_d_show_all_btm?ie=UTF8&reviewerType=all_reviews\",\n",
    "    \"https://www.amazon.com/Acer-Predator-Creator-i9-12900H-PT516-52s-99EL/product-reviews/B09TBPWQ34/ref=cm_cr_dp_d_show_all_btm?ie=UTF8&reviewerType=all_reviews\",\n",
    "    \"https://www.amazon.com/Lenovo-Legion-NVIDIA-G-Sync-7-6800H/product-reviews/B0B5BFCKSQ/ref=cm_cr_dp_d_show_all_btm?ie=UTF8&reviewerType=all_reviews\",\n",
    "]\n",
    "\n",
    "url = ','.join(url)"
   ]
  },
  {
   "cell_type": "code",
   "execution_count": 3,
   "metadata": {},
   "outputs": [
    {
     "data": {
      "text/plain": [
       "0"
      ]
     },
     "execution_count": 3,
     "metadata": {},
     "output_type": "execute_result"
    }
   ],
   "source": [
    "# Web Scraping\n",
    "\n",
    "# Delete reviews.csv if it exists\n",
    "if os.path.exists('reviews.csv'):\n",
    "    os.remove('reviews.csv')\n",
    "\n",
    "os.system('scrapy crawl amazon_reviews_targeted -a \"urls={}\" -o reviews.csv'.format(url))\n"
   ]
  },
  {
   "cell_type": "code",
   "execution_count": 4,
   "metadata": {},
   "outputs": [],
   "source": [
    "# Organize the data by product_name ascending\n",
    "df = pd.read_csv('reviews.csv')\n",
    "df = df.sort_values(by=['product_name'])\n",
    "\n",
    "# Save the data to a csv file\n",
    "df.to_csv('reviews.csv', index=False)"
   ]
  },
  {
   "cell_type": "code",
   "execution_count": 6,
   "metadata": {},
   "outputs": [
    {
     "name": "stderr",
     "output_type": "stream",
     "text": [
      "C:\\Users\\artur\\AppData\\Local\\Temp\\ipykernel_16720\\3738211202.py:7: FutureWarning: The default value of regex will change from True to False in a future version.\n",
      "  df['review_body'] = df['review_body'].str.replace('The media could not be loaded.', '').str.strip()\n"
     ]
    }
   ],
   "source": [
    "# Load the data into a dataframe\n",
    "df = pd.read_csv('reviews.csv')\n",
    "# Get the reviews only from the US\n",
    "df = df[df['review_date'].str.contains('Reviewed in the United States')]\n",
    "\n",
    "# Remove \"The media could not be loaded.\" from the review_body and strip the whitespace\n",
    "df['review_body'] = df['review_body'].str.replace('The media could not be loaded.', '').str.strip()\n",
    "\n",
    "# Remove empty reviews\n",
    "df = df[df['review_body'] != '']\n",
    "\n",
    "df.to_csv('reviews.csv')"
   ]
  }
 ],
 "metadata": {
  "kernelspec": {
   "display_name": "Python 3.10.5 64-bit ('3.10.5')",
   "language": "python",
   "name": "python3"
  },
  "language_info": {
   "codemirror_mode": {
    "name": "ipython",
    "version": 3
   },
   "file_extension": ".py",
   "mimetype": "text/x-python",
   "name": "python",
   "nbconvert_exporter": "python",
   "pygments_lexer": "ipython3",
   "version": "3.10.5"
  },
  "orig_nbformat": 4,
  "vscode": {
   "interpreter": {
    "hash": "5c395646f09c62cd0a4225eecbf7f0db2b540a0317614e24b8da97c89261644e"
   }
  }
 },
 "nbformat": 4,
 "nbformat_minor": 2
}
