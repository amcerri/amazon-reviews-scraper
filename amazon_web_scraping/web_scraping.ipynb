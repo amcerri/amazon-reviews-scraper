{
 "cells": [
  {
   "cell_type": "code",
   "execution_count": 7,
   "metadata": {},
   "outputs": [],
   "source": [
    "# Install and import the required libraries\n",
    "\n",
    "import os\n",
    "import pandas as pd\n",
    "from textblob import TextBlob"
   ]
  },
  {
   "cell_type": "code",
   "execution_count": 8,
   "metadata": {},
   "outputs": [],
   "source": [
    "# Inputs\n",
    "\n",
    "# !!!!!!!!!!!!!!!!!!!!!!!!!!!!!!!!!!!!!!!!!!!!\n",
    "# Please specify if you are scraping for a category (\"category\") or targeted products (\"targeted\")\n",
    "# CATEGORY IS NOT IMPLEMENTED YET\n",
    "scrape_option = \"targeted\"\n",
    "# !!!!!!!!!!!!!!!!!!!!!!!!!!!!!!!!!!!!!!!!!!!!\n",
    "\n",
    "# If you are scraping for a category, please specify the number of products you want to scrape\n",
    "num_of_products = 100\n",
    "\n",
    "# For a web crawler covering several pages, enter the URL of the first page here\n",
    "# Example (laptop section from Aamazon): https://www.amazon.com/s?i=computers-intl-ship&bbn=16225007011&rh=n%3A16225007011%2Cn%3A13896617011%2Cn%3A565108&dc&ds=v1%3AXgiTeWtWnTLEISX4fbQvScpIFoGbg3QrgJQB7srBzYc&qid=1667221095&rnid=13896617011&ref=sr_nr_n_2\n",
    "category_urls = [\"https://www.amazon.com/s?i=computers-intl-ship&bbn=16225007011&rh=n%3A16225007011%2Cn%3A13896617011%2Cn%3A565108&dc&ds=v1%3AXgiTeWtWnTLEISX4fbQvScpIFoGbg3QrgJQB7srBzYc&qid=1667221095&rnid=13896617011&ref=sr_nr_n_2\"]\n",
    "\n",
    "# For targeted product URLs, use the following format (URLs for specific products):\n",
    "# Example of a targeted product URL: https://www.amazon.com/Lenovo-2-1-Chromebook-Computer/dp/B09RNCN3YV/ref=cm_cr_arp_d_product_top?ie=UTF8\n",
    "targeted_urls = [\n",
    "    \"https://www.amazon.com/Acer-Chromebook-Graphics-802-11ac-CB512-C1KJ/dp/B09Q9YKW15/ref=sr_1_4?qid=1667342976&rnid=13896617011&s=computers-intl-ship&sr=1-4\",\n",
    "    \"https://www.amazon.com/Lenovo-2-1-Chromebook-Computer/dp/B09RNCN3YV/ref=sr_1_5?qid=1667342976&rnid=13896617011&s=computers-intl-ship&sr=1-5\",\n",
    "    \"https://www.amazon.com/HP-Generation-i5-1135G7-Graphics-15-dy2024nr/dp/B09FXFDGN3/ref=sr_1_6?qid=1667342976&rnid=13896617011&s=computers-intl-ship&sr=1-6\",\n",
    "    \"https://www.amazon.com/Acer-A515-45-R74Z-Hexa-Core-Processor-Graphics/dp/B09J1MXS2Z/ref=sr_1_7?qid=1667342976&rnid=13896617011&s=computers-intl-ship&sr=1-7\",\n",
    "    \"https://www.amazon.com/HP-Generation-Graphics-Bluetooth-17-by4025nr/dp/B09TG4XXYD/ref=sr_1_8?qid=1667342976&rnid=13896617011&s=computers-intl-ship&sr=1-8\",\n",
    "    \"https://www.amazon.com/Acer-A515-56-32DK-Display-i3-1115G4-Processor/dp/B09R5VYRVN/ref=sr_1_9?qid=1667342976&rnid=13896617011&s=computers-intl-ship&sr=1-9\",\n",
    "    \"https://www.amazon.com/ASUS-IPS-Type-i5-10300H-Processor-FX506LH-AS51/dp/B09SVQ25XH/ref=sr_1_10?qid=1667342976&rnid=13896617011&s=computers-intl-ship&sr=1-10\",\n",
    "    \"https://www.amazon.com/Lenovo-Ideapad-Touchscreen-i3-1005G1-Processor/dp/B08B6F1NNR/ref=sr_1_11?qid=1667342976&rnid=13896617011&s=computers-intl-ship&sr=1-11\",\n",
    "    \"https://www.amazon.com/HP-Keyboard-Enlarged-Touchpad-15-fb0028nr/dp/B09X2B5TYJ/ref=sr_1_12?qid=1667342976&rnid=13896617011&s=computers-intl-ship&sr=1-12\",\n",
    "    \"https://www.amazon.com/Acer-AN517-54-79L1-i7-11800H-GeForce-Display/dp/B09HJKGK5V/ref=sr_1_16?qid=1667342976&rnid=13896617011&s=computers-intl-ship&sr=1-16\",\n",
    "    \"https://www.amazon.com/HP-Anti-Glare-Portable-Microsoft-11-ak0040nr/dp/B09F8JJDLW/ref=sr_1_17?qid=1667342976&rnid=13896617011&s=computers-intl-ship&sr=1-17\",\n",
    "    \"https://www.amazon.com/ASUS-Chromebook-Resistant-Durability-C203XA-YS02-GR/dp/B07YXZ1CP3/ref=sr_1_18?qid=1667342976&rnid=13896617011&s=computers-intl-ship&sr=1-18\",\n",
    "    \"https://www.amazon.com/ASUS-Vivobook-Ultra-Thin-Personal-L210MA-DS02/dp/B09QF58J7T/ref=sr_1_19?qid=1667342976&rnid=13896617011&s=computers-intl-ship&sr=1-19\",\n",
    "    \"https://www.amazon.com/Lenovo-Chromebook-Processor-Graphics-82BA0003US/dp/B087YW8FQB/ref=sr_1_20?qid=1667342976&rnid=13896617011&s=computers-intl-ship&sr=1-20\",\n",
    "    \"https://www.amazon.com/HP-i5-12500H-Keyboard-Enhanced-15-fa0025nr/dp/B09X8KFRB4/ref=sr_1_21?qid=1667342976&rnid=13896617011&s=computers-intl-ship&sr=1-21\",\n",
    "    \"https://www.amazon.com/HP-Chromebook-Graphics-Keyboard-14a-na0226nr/dp/B09SVSBVP1/ref=sr_1_22?qid=1667342976&rnid=13896617011&s=computers-intl-ship&sr=1-22\",\n",
    "    \"https://www.amazon.com/Acer-Chromebook-Spin-311-CP311-2H-C7QD/dp/B08NTP5RTN/ref=sr_1_23?qid=1667342976&rnid=13896617011&s=computers-intl-ship&sr=1-23\",\n",
    "    \"https://www.amazon.com/Lenovo-IdeaPad-Essential-Computer-i5-15-6/dp/B09RNC69K8/ref=sr_1_24?qid=1667342976&rnid=13896617011&s=computers-intl-ship&sr=1-24\",\n",
    "    \"https://www.amazon.com/Acer-SFX14-41G-R1S6-Creator-LPDDR4X-Backlit/dp/B093TK1PXF/ref=sr_1_25?qid=1667342976&rnid=13896617011&s=computers-intl-ship&sr=1-25\",\n",
    "    \"https://www.amazon.com/Samsung-Chromebook-Graphics-Celeron-Processor/dp/B08M2X68W5/ref=sr_1_26?qid=1667342976&rnid=13896617011&s=computers-intl-ship&sr=1-26\",\n",
    "    \"https://www.amazon.com/HP-Portable-Micro-Edge-Anti-Glare-14-fq1025nr/dp/B09G8SK2KK/ref=sr_1_27?qid=1667342976&rnid=13896617011&s=computers-intl-ship&sr=1-27\",\n",
    "    \"https://www.amazon.com/Acer-A515-46-R3UB-Display-Quad-Core-Processor/dp/B09HVC79PC/ref=sr_1_28?qid=1667342976&rnid=13896617011&s=computers-intl-ship&sr=1-28\",\n",
    "    \"https://www.amazon.com/ASUS-Vivobook-Processor-Microsoft-L510MA-AS02/dp/B09SVR5VD4/ref=sr_1_29?qid=1667342976&rnid=13896617011&s=computers-intl-ship&sr=1-29\",\n",
    "    \"https://www.amazon.com/Intel-Celeron-N4020-14-Inch-Laptop/dp/B09YRY6QCX/ref=sr_1_30?qid=1667342976&rnid=13896617011&s=computers-intl-ship&sr=1-30\",\n",
    "    \"https://www.amazon.com/s?i=computers-intl-ship&bbn=16225007011&rh=n%3A16225007011%2Cn%3A13896617011%2Cn%3A565108&dc&page=2&qid=1667342976&rnid=13896617011&ref=sr_pg_2\",\n",
    "    \"https://www.amazon.com/ASUS-Display-GeForce-Keyboard-G533ZW-AS94/dp/B09RMW1L7Y/ref=sr_1_28?qid=1667343140&rnid=13896617011&s=computers-intl-ship&sr=1-28\",\n",
    "    \"https://www.amazon.com/HP-Convertible-Generation-i5-1135G7-14-dw1025nr/dp/B09FDG7M6N/ref=sr_1_29?qid=1667343140&rnid=13896617011&s=computers-intl-ship&sr=1-29\",\n",
    "    \"https://www.amazon.com/Dell-Inspiron-3583-Laptop-Celeron/dp/B08HSNRFTX/ref=sr_1_30?qid=1667343140&rnid=13896617011&s=computers-intl-ship&sr=1-30\",\n",
    "    \"https://www.amazon.com/Acer-A515-46-R3CZ-Quad-Core-Processor-Fingerprint/dp/B09JPK5VJR/ref=sr_1_31?qid=1667343140&rnid=13896617011&s=computers-intl-ship&sr=1-31\",\n",
    "    \"https://www.amazon.com/Microsoft-Surface-Pro-8-13-Touchscreen/dp/B09DJSF748/ref=sr_1_32?qid=1667343140&rnid=13896617011&s=computers-intl-ship&sr=1-32\",\n",
    "    \"https://www.amazon.com/ASUS-IPS-Type-i5-11400H-Processor-FX706HCB-ES51/dp/B09SVQY3PF/ref=sr_1_33?qid=1667343140&rnid=13896617011&s=computers-intl-ship&sr=1-33\",\n",
    "    \"https://www.amazon.com/ASUS-Display-i7-12650H-Thunderbolt-FX517ZM-AS73/dp/B09RMH9B6F/ref=sr_1_34?qid=1667343140&rnid=13896617011&s=computers-intl-ship&sr=1-34\",\n",
    "    \"https://www.amazon.com/ASUS-Display-Processor-NumberPad-L410MA-DB02/dp/B08D92T45H/ref=sr_1_35?qid=1667343140&rnid=13896617011&s=computers-intl-ship&sr=1-35\",\n",
    "    \"https://www.amazon.com/ASUS-i3-1115G4-Processor-Fingerprint-F415EA-AS31/dp/B09SVQG3ZZ/ref=sr_1_36?qid=1667343140&rnid=13896617011&s=computers-intl-ship&sr=1-36\",\n",
    "    \"https://www.amazon.com/ASUS-GeForce-i7-11370H-Windows-TUF516PE-AB73/dp/B08XPC3WFQ/ref=sr_1_37?qid=1667343140&rnid=13896617011&s=computers-intl-ship&sr=1-37\",\n",
    "    \"https://www.amazon.com/2022-Apple-MacBook-Laptop-chip/dp/B0B3C7MJX3/ref=sr_1_1?keywords=macbook&qid=1667343200&qu=eyJxc2MiOiI2LjQ1IiwicXNhIjoiNi42MyIsInFzcCI6IjYuMzAifQ%3D%3D&sr=8-1\",\n",
    "    \"https://www.amazon.com/Apple-MacBook-13-inch-256GB-Storage/dp/B08N5M7S6K/ref=sr_1_2?keywords=macbook&qid=1667343200&qu=eyJxc2MiOiI2LjQ1IiwicXNhIjoiNi42MyIsInFzcCI6IjYuMzAifQ%3D%3D&sr=8-2\",\n",
    "    \"https://www.amazon.com/2022-Apple-MacBook-Laptop-chip/dp/B0B3C5HNXJ/ref=sr_1_3?keywords=macbook&qid=1667343200&qu=eyJxc2MiOiI2LjQ1IiwicXNhIjoiNi42MyIsInFzcCI6IjYuMzAifQ%3D%3D&sr=8-3\",\n",
    "    \"https://www.amazon.com/Apple-MacBook-13-inch-Display-Dual-core/dp/B07KGJ3Z8H/ref=sr_1_4?keywords=macbook&qid=1667343200&qu=eyJxc2MiOiI2LjQ1IiwicXNhIjoiNi42MyIsInFzcCI6IjYuMzAifQ%3D%3D&sr=8-4\",\n",
    "    \"https://www.amazon.com/Apple-MacBook-16-inch-10%E2%80%91core-16%E2%80%91core/dp/B09JQML3NL/ref=sr_1_5?keywords=macbook&qid=1667343200&qu=eyJxc2MiOiI2LjQ1IiwicXNhIjoiNi42MyIsInFzcCI6IjYuMzAifQ%3D%3D&sr=8-5\",\n",
    "    \"https://www.amazon.com/Apple-MacBook-14-inch-8%E2%80%91core-14%E2%80%91core/dp/B09JQSLL92/ref=sr_1_6?keywords=macbook&qid=1667343200&qu=eyJxc2MiOiI2LjQ1IiwicXNhIjoiNi42MyIsInFzcCI6IjYuMzAifQ%3D%3D&sr=8-6\",\n",
    "    \"https://www.amazon.com/Apple-MacBook-Pro-Late-2021/dp/B0B7PS8KG1/ref=sr_1_7?keywords=macbook&qid=1667343200&qu=eyJxc2MiOiI2LjQ1IiwicXNhIjoiNi42MyIsInFzcCI6IjYuMzAifQ%3D%3D&sr=8-7\",\n",
    "    \"https://www.amazon.com/Apple-MacBook-13-inch-256GB-Storage/dp/B08N5N6RSS/ref=sr_1_8?keywords=macbook&qid=1667343200&qu=eyJxc2MiOiI2LjQ1IiwicXNhIjoiNi42MyIsInFzcCI6IjYuMzAifQ%3D%3D&sr=8-8\",\n",
    "    \"https://www.amazon.com/Apple-MacBook-Pro-Mid-2022/dp/B0BGYSZ137/ref=sr_1_9?keywords=macbook&qid=1667343200&qu=eyJxc2MiOiI2LjQ1IiwicXNhIjoiNi42MyIsInFzcCI6IjYuMzAifQ%3D%3D&sr=8-9\",\n",
    "    \"https://www.amazon.com/Apple-MacBook-16-inch-10%E2%80%91core-16%E2%80%91core/dp/B09MSRJ97Y/ref=sr_1_10?keywords=macbook&qid=1667343200&qu=eyJxc2MiOiI2LjQ1IiwicXNhIjoiNi42MyIsInFzcCI6IjYuMzAifQ%3D%3D&sr=8-10\",\n",
    "]\n",
    "\n",
    "targeted_urls = ','.join(targeted_urls)"
   ]
  },
  {
   "cell_type": "code",
   "execution_count": 9,
   "metadata": {},
   "outputs": [
    {
     "data": {
      "text/plain": [
       "0"
      ]
     },
     "execution_count": 9,
     "metadata": {},
     "output_type": "execute_result"
    }
   ],
   "source": [
    "# Web Scraping\n",
    "\n",
    "if scrape_option == 'category':\n",
    "    file_name = 'category_reviews.csv'\n",
    "    spider = 'amazon_reviews_category'\n",
    "    urls = category_urls\n",
    "    if os.path.exists(file_name):\n",
    "        os.remove(file_name)\n",
    "elif scrape_option == 'targeted':\n",
    "    file_name = 'targeted_reviews.csv'\n",
    "    spider = 'amazon_reviews_targeted'\n",
    "    urls = targeted_urls\n",
    "    if os.path.exists(file_name):\n",
    "        os.remove(file_name)\n",
    "\n",
    "os.system('scrapy crawl {} -a \"urls={}\" -o {}'.format(spider, urls, file_name))"
   ]
  },
  {
   "cell_type": "code",
   "execution_count": null,
   "metadata": {},
   "outputs": [],
   "source": [
    "df = pd.read_csv(file_name, index_col=0)\n",
    "df = df.sort_values(by=['product_name'])\n",
    "\n",
    "# Save the data to a csv file\n",
    "df.to_csv(file_name, index=False)"
   ]
  },
  {
   "cell_type": "code",
   "execution_count": null,
   "metadata": {},
   "outputs": [],
   "source": [
    "# Load the data into a dataframe\n",
    "df = pd.read_csv(file_name, index_col=0)\n",
    "# Get the reviews only from the US\n",
    "df = df[df['review_date'].str.contains('Reviewed in the United States')]\n",
    "\n",
    "# Remove \"The media could not be loaded.\" from the review_body and strip the whitespace\n",
    "df['review_body'] = df['review_body'].str.replace(f'The media could not be loaded.', '', regex=True).str.strip()\n",
    "\n",
    "# Remove empty reviews\n",
    "df = df[df['review_body'] != '']\n",
    "\n",
    "df.to_csv(file_name)"
   ]
  }
 ],
 "metadata": {
  "kernelspec": {
   "display_name": "Python 3.10.5 64-bit ('3.10.5')",
   "language": "python",
   "name": "python3"
  },
  "language_info": {
   "codemirror_mode": {
    "name": "ipython",
    "version": 3
   },
   "file_extension": ".py",
   "mimetype": "text/x-python",
   "name": "python",
   "nbconvert_exporter": "python",
   "pygments_lexer": "ipython3",
   "version": "3.10.5"
  },
  "orig_nbformat": 4,
  "vscode": {
   "interpreter": {
    "hash": "5c395646f09c62cd0a4225eecbf7f0db2b540a0317614e24b8da97c89261644e"
   }
  }
 },
 "nbformat": 4,
 "nbformat_minor": 2
}
